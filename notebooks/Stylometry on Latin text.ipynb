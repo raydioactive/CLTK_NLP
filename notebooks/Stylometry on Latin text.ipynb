{
 "cells": [
  {
   "cell_type": "markdown",
   "id": "f517585c",
   "metadata": {},
   "source": [
    "### An investigation into Computational Stylometry of Latin via the CLTK and various stylometric procedures\n",
    "#The aim of this is to identify metrics that can be generated via NLP pipelines from latin text that vary significantly enough to allow for identification of the author from input text\n",
    "#Perhaps it's possible to create a Political compass of latin style, doing PCA and identifying which components vary the most"
   ]
  },
  {
   "cell_type": "code",
   "execution_count": null,
   "id": "d3478514",
   "metadata": {},
   "outputs": [],
   "source": []
  }
 ],
 "metadata": {
  "kernelspec": {
   "display_name": "Python 3 (ipykernel)",
   "language": "python",
   "name": "python3"
  },
  "language_info": {
   "codemirror_mode": {
    "name": "ipython",
    "version": 3
   },
   "file_extension": ".py",
   "mimetype": "text/x-python",
   "name": "python",
   "nbconvert_exporter": "python",
   "pygments_lexer": "ipython3",
   "version": "3.9.16"
  }
 },
 "nbformat": 4,
 "nbformat_minor": 5
}
